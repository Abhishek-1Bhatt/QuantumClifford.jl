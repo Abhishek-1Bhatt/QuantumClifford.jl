{
 "cells": [
  {
   "cell_type": "markdown",
   "metadata": {},
   "source": [
    "# Installation\n",
    "\n",
    "This library is not tracked by the Julia central package repository for the moment.\n",
    "\n",
    "To install it, use `git clone` to put in in a convenient for you directory, go to that directory, open the Julia interpreter and type `] dev .` (`]` lets you enter the package manager prompt, `dev` means \"install from directory, in a way that continues let me edit the code in this directory\" and `.` means \"current directory\").\n",
    "\n",
    "If you want to use the notebook interface, also perform `add IJulia` from that same package manager prompt and then from the main Julia prompt do `using IJulia; notebook(dir=\".\")`. If you want to use multithreaded execution use `ENV[\"JULIA_NUM_THREADS\"] = 8; using IJulia; notebook(dir=\".\")`. Juno is another convenient work environment for Julia.\n",
    "\n",
    "If you want to edit the code and have all your notebooks automatically use the new code without restarting them, you can also install `Revise` with `add Revise` in the package manager prompt. For benchmarking `add BenchmarkTools`.\n",
    "\n",
    "To enter unicode operators like ⊗ or ⊕ just type the corresponding Latex command (e.g. `\\otimes + TAB`).\n",
    "\n",
    "### Some naming conventions might change before this is pushed to the Julia package repository!!!"
   ]
  },
  {
   "cell_type": "code",
   "execution_count": 1,
   "metadata": {},
   "outputs": [],
   "source": [
    "#using Revise\n",
    "using SimpleClifford"
   ]
  },
  {
   "cell_type": "markdown",
   "metadata": {},
   "source": [
    "# Pauli Operators\n",
    "\n",
    "They are stored in memory as a phase (a single byte where `0x0,0x1,0x2,0x3` corresponds to $1,i,-1,-i$) and two bit-arrays, for X and for Z components."
   ]
  },
  {
   "cell_type": "code",
   "execution_count": 2,
   "metadata": {},
   "outputs": [
    {
     "data": {
      "text/plain": [
       "-iXZ"
      ]
     },
     "execution_count": 2,
     "metadata": {},
     "output_type": "execute_result"
    }
   ],
   "source": [
    "# Create them with P-strings\n",
    "P\"-iXZ\""
   ]
  },
  {
   "cell_type": "code",
   "execution_count": 3,
   "metadata": {},
   "outputs": [
    {
     "data": {
      "text/plain": [
       "+ _XZ"
      ]
     },
     "execution_count": 3,
     "metadata": {},
     "output_type": "execute_result"
    }
   ],
   "source": [
    "# Or by specifying phase and X/Z components\n",
    "PauliOperator(0x0,Bool[0,1,0],Bool[0,0,1])"
   ]
  },
  {
   "cell_type": "code",
   "execution_count": 4,
   "metadata": {},
   "outputs": [
    {
     "data": {
      "text/plain": [
       "+ __XYZ"
      ]
     },
     "execution_count": 4,
     "metadata": {},
     "output_type": "execute_result"
    }
   ],
   "source": [
    "# Both underscore and I can be used for identity\n",
    "P\"I_XYZ\""
   ]
  },
  {
   "cell_type": "code",
   "execution_count": 5,
   "metadata": {},
   "outputs": [
    {
     "data": {
      "text/plain": [
       "(-iX, -iY, + XZ)"
      ]
     },
     "execution_count": 5,
     "metadata": {},
     "output_type": "execute_result"
    }
   ],
   "source": [
    "# Available operations\n",
    "-1im*P\"X\", P\"X\" * P\"Z\", P\"X\" ⊗ P\"Z\""
   ]
  },
  {
   "cell_type": "code",
   "execution_count": 6,
   "metadata": {},
   "outputs": [
    {
     "data": {
      "text/plain": [
       "(0x01, 0x00)"
      ]
     },
     "execution_count": 6,
     "metadata": {},
     "output_type": "execute_result"
    }
   ],
   "source": [
    "# Commutativity checks\n",
    "comm(P\"X\",P\"Z\"), comm(P\"XX\",P\"ZZ\")"
   ]
  },
  {
   "cell_type": "code",
   "execution_count": 7,
   "metadata": {},
   "outputs": [
    {
     "data": {
      "text/plain": [
       "(0x03, 0x00, 0x01)"
      ]
     },
     "execution_count": 7,
     "metadata": {},
     "output_type": "execute_result"
    }
   ],
   "source": [
    "# Calculation of only the phase of a product\n",
    "prodphase(P\"X\", P\"Z\"), prodphase(P\"X\", P\"iZ\"), prodphase(P\"X\",P\"Y\")"
   ]
  },
  {
   "cell_type": "code",
   "execution_count": 8,
   "metadata": {},
   "outputs": [
    {
     "data": {
      "text/plain": [
       "((false, false), (true, false), (false, true), (true, true))"
      ]
     },
     "execution_count": 8,
     "metadata": {},
     "output_type": "execute_result"
    }
   ],
   "source": [
    "# Indexing is possible\n",
    "p = P\"IXZY\"\n",
    "p[1], p[2], p[3], p[4]"
   ]
  },
  {
   "cell_type": "code",
   "execution_count": 9,
   "metadata": {},
   "outputs": [
    {
     "data": {
      "text/plain": [
       "+ _Y_"
      ]
     },
     "execution_count": 9,
     "metadata": {},
     "output_type": "execute_result"
    }
   ],
   "source": [
    "p = P\"III\"\n",
    "p[2] = (true, true)\n",
    "p"
   ]
  },
  {
   "cell_type": "code",
   "execution_count": 10,
   "metadata": {},
   "outputs": [
    {
     "data": {
      "text/plain": [
       "(4, 0x02, UInt64[0x0000000000000006, 0x000000000000000c])"
      ]
     },
     "execution_count": 10,
     "metadata": {},
     "output_type": "execute_result"
    }
   ],
   "source": [
    "# Representation in memory\n",
    "p = P\"-IXYZ\"\n",
    "p.nqbits, p.phase, p.xz"
   ]
  },
  {
   "cell_type": "code",
   "execution_count": 11,
   "metadata": {},
   "outputs": [
    {
     "data": {
      "text/plain": [
       "(Bool[0, 1, 1, 0], Bool[0, 0, 1, 1], UInt64[0x0000000000000006], UInt64[0x000000000000000c])"
      ]
     },
     "execution_count": 11,
     "metadata": {},
     "output_type": "execute_result"
    }
   ],
   "source": [
    "# Convenience attributes\n",
    "p.xbit, p.zbit, p.xview, p.zview"
   ]
  },
  {
   "cell_type": "code",
   "execution_count": 12,
   "metadata": {},
   "outputs": [
    {
     "data": {
      "text/plain": [
       "4-element BitArray{1}:\n",
       " 1\n",
       " 1\n",
       " 0\n",
       " 0"
      ]
     },
     "execution_count": 12,
     "metadata": {},
     "output_type": "execute_result"
    }
   ],
   "source": [
    "# In particular `xbit` and `zbit` give you Bool (GF2) vectors\n",
    "P\"XYZI\".xbit"
   ]
  },
  {
   "cell_type": "markdown",
   "metadata": {},
   "source": [
    "# Stabilizers\n",
    "\n",
    "They are stored in memory as a phase list and a bit-matrix for X and Z components."
   ]
  },
  {
   "cell_type": "code",
   "execution_count": 13,
   "metadata": {},
   "outputs": [
    {
     "data": {
      "text/plain": [
       "- XX\n",
       "+ ZZ"
      ]
     },
     "execution_count": 13,
     "metadata": {},
     "output_type": "execute_result"
    }
   ],
   "source": [
    "# Create them with S-strings\n",
    "S\"-XX\n",
    "  +ZZ\""
   ]
  },
  {
   "cell_type": "code",
   "execution_count": 14,
   "metadata": {},
   "outputs": [
    {
     "data": {
      "text/plain": [
       "- XX\n",
       "+ ZZ"
      ]
     },
     "execution_count": 14,
     "metadata": {},
     "output_type": "execute_result"
    }
   ],
   "source": [
    "# Create them with list of Pauli operators\n",
    "Stabilizer([P\"-XX\",P\"+ZZ\"])"
   ]
  },
  {
   "cell_type": "code",
   "execution_count": 15,
   "metadata": {},
   "outputs": [
    {
     "data": {
      "text/plain": [
       "- XX\n",
       "+ ZZ"
      ]
     },
     "execution_count": 15,
     "metadata": {},
     "output_type": "execute_result"
    }
   ],
   "source": [
    "# Create them with list of phases and an X and Z matrices\n",
    "Stabilizer([0x2, 0x0],\n",
    "    Bool[1 1;\n",
    "         0 0],\n",
    "    Bool[0 0;\n",
    "         1 1])"
   ]
  },
  {
   "cell_type": "code",
   "execution_count": 16,
   "metadata": {},
   "outputs": [
    {
     "data": {
      "text/plain": [
       "- XX__\n",
       "+ __ZZ"
      ]
     },
     "execution_count": 16,
     "metadata": {},
     "output_type": "execute_result"
    }
   ],
   "source": [
    "# Available operations\n",
    "S\"-XX\" ⊕ S\"ZZ\""
   ]
  },
  {
   "cell_type": "code",
   "execution_count": 17,
   "metadata": {},
   "outputs": [
    {
     "data": {
      "text/plain": [
       "+ ZZX"
      ]
     },
     "execution_count": 17,
     "metadata": {},
     "output_type": "execute_result"
    }
   ],
   "source": [
    "# Indexing by an int gives you the corresponding Pauli operator\n",
    "s = S\"-XXX\n",
    "      +ZZX\n",
    "      +III\"\n",
    "s[2]"
   ]
  },
  {
   "cell_type": "code",
   "execution_count": 18,
   "metadata": {},
   "outputs": [
    {
     "data": {
      "text/plain": [
       "- XXX\n",
       "+ ZZX"
      ]
     },
     "execution_count": 18,
     "metadata": {},
     "output_type": "execute_result"
    }
   ],
   "source": [
    "# Indexing by a range gives you a subset of the stabilizer\n",
    "s[1:2] # This is useful if you want to start with a large all-identity stabilizer and build it up bit by bit"
   ]
  },
  {
   "cell_type": "code",
   "execution_count": 19,
   "metadata": {},
   "outputs": [
    {
     "data": {
      "text/plain": [
       "- XXX\n",
       "+ ___"
      ]
     },
     "execution_count": 19,
     "metadata": {},
     "output_type": "execute_result"
    }
   ],
   "source": [
    "# Or fancy indexing by array of indices or by a mask\n",
    "s[[1,3]]"
   ]
  },
  {
   "cell_type": "code",
   "execution_count": 20,
   "metadata": {},
   "outputs": [
    {
     "data": {
      "text/plain": [
       "- XXX\n",
       "+ ___"
      ]
     },
     "execution_count": 20,
     "metadata": {},
     "output_type": "execute_result"
    }
   ],
   "source": [
    "s[[true, false, true]]"
   ]
  },
  {
   "cell_type": "code",
   "execution_count": 21,
   "metadata": {},
   "outputs": [
    {
     "data": {
      "text/plain": [
       "+ YYX\n",
       "+ ZZX\n",
       "+ ___"
      ]
     },
     "execution_count": 21,
     "metadata": {},
     "output_type": "execute_result"
    }
   ],
   "source": [
    "# Assignment is also possible\n",
    "s[1] = P\"+YYX\"\n",
    "s"
   ]
  },
  {
   "cell_type": "code",
   "execution_count": 22,
   "metadata": {},
   "outputs": [
    {
     "data": {
      "text/plain": [
       "+iX\n",
       "+ Z"
      ]
     },
     "execution_count": 22,
     "metadata": {},
     "output_type": "execute_result"
    }
   ],
   "source": [
    "# Consistency at creation is not verified so nonsensical stabilizers can be created, both in terms of content and shape.\n",
    "S\"iX\n",
    "  +Z\""
   ]
  },
  {
   "cell_type": "code",
   "execution_count": 23,
   "metadata": {},
   "outputs": [
    {
     "data": {
      "text/plain": [
       "(UInt8[0x02, 0x00, 0x02], 3, UInt64[0x0000000000000007 0x0000000000000000; 0x0000000000000000 0x0000000000000003; 0x0000000000000000 0x0000000000000006])"
      ]
     },
     "execution_count": 23,
     "metadata": {},
     "output_type": "execute_result"
    }
   ],
   "source": [
    "# Representation in memory\n",
    "s = S\"-XXX\n",
    "      +ZZI\n",
    "      -IZZ\"\n",
    "s.phases, s.nqbits, s.xzs"
   ]
  },
  {
   "cell_type": "code",
   "execution_count": 24,
   "metadata": {},
   "outputs": [
    {
     "data": {
      "text/plain": [
       "3×6 BitArray{2}:\n",
       " 1  1  1  0  0  0\n",
       " 0  0  0  1  1  0\n",
       " 0  0  0  0  1  1"
      ]
     },
     "execution_count": 24,
     "metadata": {},
     "output_type": "execute_result"
    }
   ],
   "source": [
    "# Turn it into a Bool matrix\n",
    "stab_to_gf2(s)"
   ]
  },
  {
   "cell_type": "markdown",
   "metadata": {},
   "source": [
    "# Canonicalization of Stabilizers"
   ]
  },
  {
   "cell_type": "code",
   "execution_count": 25,
   "metadata": {},
   "outputs": [
    {
     "data": {
      "text/plain": [
       "+ YY_\n",
       "+ ZZX\n",
       "+ ___"
      ]
     },
     "execution_count": 25,
     "metadata": {},
     "output_type": "execute_result"
    }
   ],
   "source": [
    "# Canonicalization (akin to Gaussian elimination over F(2,2)) is implemented.\n",
    "s = S\"-XXX\n",
    "      +ZZX\n",
    "      +III\"\n",
    "canonicalize!(s)"
   ]
  },
  {
   "cell_type": "code",
   "execution_count": 26,
   "metadata": {},
   "outputs": [
    {
     "data": {
      "text/plain": [
       "- YY_\n",
       "+ ZZX\n",
       "+ ___"
      ]
     },
     "execution_count": 26,
     "metadata": {},
     "output_type": "execute_result"
    }
   ],
   "source": [
    "# If phases are inconsequential, the operations can be faster by not tracking and updating them.\n",
    "s = S\"-XXX\n",
    "      +ZZX\n",
    "      +III\"\n",
    "canonicalize!(s; phases=false)"
   ]
  },
  {
   "cell_type": "code",
   "execution_count": 27,
   "metadata": {},
   "outputs": [
    {
     "data": {
      "text/plain": [
       "- YY_\n",
       "+ ZZX\n",
       "+ ___"
      ]
     },
     "execution_count": 27,
     "metadata": {},
     "output_type": "execute_result"
    }
   ],
   "source": [
    "# These operations are in place (as customarily signified by \"!\")\n",
    "s = S\"-XXX\n",
    "      +ZZX\n",
    "      +III\"\n",
    "canonicalize!(s; phases=false)\n",
    "s"
   ]
  },
  {
   "cell_type": "markdown",
   "metadata": {},
   "source": [
    "# Projective measurements"
   ]
  },
  {
   "cell_type": "code",
   "execution_count": 28,
   "metadata": {},
   "outputs": [],
   "source": [
    "# This happens to be a GHZ state\n",
    "s = S\"-XXX\n",
    "      +ZZI\n",
    "      -IZZ\";"
   ]
  },
  {
   "cell_type": "code",
   "execution_count": 29,
   "metadata": {},
   "outputs": [
    {
     "data": {
      "text/plain": [
       "(+ Z__\n",
       "+ ZZ_\n",
       "- _ZZ, 1, nothing)"
      ]
     },
     "execution_count": 29,
     "metadata": {},
     "output_type": "execute_result"
    }
   ],
   "source": [
    "# It returns the new stabilizer, the index where the anticommutation was detected,\n",
    "# and the result of the projection (`nothing` being an undetermined result)\n",
    "project!(copy(s), P\"ZII\")"
   ]
  },
  {
   "cell_type": "code",
   "execution_count": 30,
   "metadata": {},
   "outputs": [
    {
     "data": {
      "text/plain": [
       "(- XXX\n",
       "- Z_Z\n",
       "- _ZZ, 0, 0x02)"
      ]
     },
     "execution_count": 30,
     "metadata": {},
     "output_type": "execute_result"
    }
   ],
   "source": [
    "# Here there are changes to the state (stabilizer), no anticommuting terms (the index is zero),\n",
    "# and the result is perfectly determined (-1, or in our convention to represent the phase, 0x2).\n",
    "project!(copy(s), P\"-ZZI\")"
   ]
  },
  {
   "cell_type": "code",
   "execution_count": 31,
   "metadata": {},
   "outputs": [
    {
     "data": {
      "text/plain": [
       "(- XXX\n",
       "+ ZZ_\n",
       "- _ZZ, 0, nothing)"
      ]
     },
     "execution_count": 31,
     "metadata": {},
     "output_type": "execute_result"
    }
   ],
   "source": [
    "# When the projection is consistent with the stabilizer (i.e. the mesurement result is not `nothing`),\n",
    "# this would trigger an expensive canonicalization procedure in order to calculate the measurement \n",
    "# result. If all you want to know is whether the projection is consistent with the stabilizer, but\n",
    "# you do not care about the measurement result, you can skip the canonicalization and calculation of\n",
    "# the result.\n",
    "project!(copy(s), P\"-ZZI\", keep_result=false)"
   ]
  },
  {
   "cell_type": "code",
   "execution_count": 32,
   "metadata": {},
   "outputs": [
    {
     "data": {
      "text/plain": [
       "(- XXX\n",
       "+ Z_Z\n",
       "- _ZZ, 0, 0x00)"
      ]
     },
     "execution_count": 32,
     "metadata": {},
     "output_type": "execute_result"
    }
   ],
   "source": [
    "# Lastly, in either case, you can skip the calculation of the phases as well, if they are unimportant.\n",
    "project!(copy(s), P\"ZZI\", phases=false)"
   ]
  },
  {
   "cell_type": "markdown",
   "metadata": {},
   "source": [
    "# Generating a Pauli operator with Stabilizer generators\n",
    "\n",
    "## i.e. checking for independence"
   ]
  },
  {
   "cell_type": "code",
   "execution_count": 33,
   "metadata": {},
   "outputs": [
    {
     "data": {
      "text/plain": [
       "- XXX\n",
       "- Z_Z\n",
       "- _ZZ"
      ]
     },
     "execution_count": 33,
     "metadata": {},
     "output_type": "execute_result"
    }
   ],
   "source": [
    "# It requires the stabilizer to be already canonicalized\n",
    "s = canonicalize!(s)"
   ]
  },
  {
   "cell_type": "code",
   "execution_count": 34,
   "metadata": {},
   "outputs": [
    {
     "data": {
      "text/plain": [
       "(- ___, [1, 3])"
      ]
     },
     "execution_count": 34,
     "metadata": {},
     "output_type": "execute_result"
    }
   ],
   "source": [
    "# It modifies the Pauli operator in place, reducing it to identity if possible.\n",
    "# The leftover phase is present to indicate if the phase itself could not have been canceled.\n",
    "# The list of indices specifies which rows of the stabilizer were used to generated the\n",
    "# desired Pauli operator.\n",
    "generate!(P\"XYY\", s)"
   ]
  },
  {
   "cell_type": "code",
   "execution_count": 35,
   "metadata": {},
   "outputs": [
    {
     "data": {
      "text/plain": [
       "(+ ___, [1, 3])"
      ]
     },
     "execution_count": 35,
     "metadata": {},
     "output_type": "execute_result"
    }
   ],
   "source": [
    "# Phases can be neglected, for higher performance.\n",
    "generate!(P\"XYY\", s, phases=false)"
   ]
  },
  {
   "cell_type": "code",
   "execution_count": 36,
   "metadata": {},
   "outputs": [
    {
     "data": {
      "text/plain": [
       "(nothing, nothing, nothing)"
      ]
     },
     "execution_count": 36,
     "metadata": {},
     "output_type": "execute_result"
    }
   ],
   "source": [
    "# If the Pauli operator can not be generated by the stabilizer, `nothing` value is returned.\n",
    "generate!(P\"ZZZ\", s), generate!(P\"XZX\", s), generate!(P\"YYY\", s)"
   ]
  },
  {
   "cell_type": "markdown",
   "metadata": {},
   "source": [
    "# Clifford Operators"
   ]
  },
  {
   "cell_type": "code",
   "execution_count": 37,
   "metadata": {},
   "outputs": [
    {
     "name": "stdout",
     "output_type": "stream",
     "text": [
      "X ⟼ + Z\n",
      "Z ⟼ + X\n",
      "\n",
      "X ⟼ + Y\n",
      "Z ⟼ + Z\n",
      "\n",
      "X_ ⟼ + XX\n",
      "_X ⟼ + _X\n",
      "Z_ ⟼ + Z_\n",
      "_Z ⟼ + ZZ\n",
      "\n",
      "X ⟼ + X\n",
      "Z ⟼ + Z\n",
      "\n"
     ]
    }
   ],
   "source": [
    "# Predefined\n",
    "println(Hadamard)\n",
    "println(Phase)\n",
    "println(CNOT)\n",
    "println(CliffordId)"
   ]
  },
  {
   "cell_type": "code",
   "execution_count": 38,
   "metadata": {},
   "outputs": [
    {
     "data": {
      "text/plain": [
       "X_ ⟼ + Z_\n",
       "_X ⟼ + _Y\n",
       "Z_ ⟼ + X_\n",
       "_Z ⟼ + _Z\n"
      ]
     },
     "execution_count": 38,
     "metadata": {},
     "output_type": "execute_result"
    }
   ],
   "source": [
    "# Tensor products # IT IS SLOW\n",
    "Hadamard ⊗ Phase"
   ]
  },
  {
   "cell_type": "code",
   "execution_count": 39,
   "metadata": {},
   "outputs": [
    {
     "data": {
      "text/plain": [
       "X ⟼ - Y\n",
       "Z ⟼ + X\n"
      ]
     },
     "execution_count": 39,
     "metadata": {},
     "output_type": "execute_result"
    }
   ],
   "source": [
    "# Chaining # IT IS SLOW\n",
    "Hadamard * Phase"
   ]
  },
  {
   "cell_type": "code",
   "execution_count": 40,
   "metadata": {},
   "outputs": [
    {
     "data": {
      "text/plain": [
       "X_ ⟼ + X_\n",
       "_X ⟼ + XX\n",
       "Z_ ⟼ + ZZ\n",
       "_Z ⟼ + _Z\n"
      ]
     },
     "execution_count": 40,
     "metadata": {},
     "output_type": "execute_result"
    }
   ],
   "source": [
    "# Permuting qubits # IT IS SLOW\n",
    "permute(CNOT, [2,1])"
   ]
  },
  {
   "cell_type": "code",
   "execution_count": 41,
   "metadata": {},
   "outputs": [
    {
     "data": {
      "text/plain": [
       "X_ ⟼ - ZZ\n",
       "_X ⟼ + _Z\n",
       "Z_ ⟼ - X_\n",
       "_Z ⟼ + XX\n"
      ]
     },
     "execution_count": 41,
     "metadata": {},
     "output_type": "execute_result"
    }
   ],
   "source": [
    "# You can create custom Clifford operators with C-strings\n",
    "C\"-ZZ\n",
    "  +_Z\n",
    "  -X_\n",
    "  +XX\""
   ]
  },
  {
   "cell_type": "code",
   "execution_count": 42,
   "metadata": {},
   "outputs": [
    {
     "data": {
      "text/plain": [
       "X_ ⟼ - ZZ\n",
       "_X ⟼ + _Z\n",
       "Z_ ⟼ - X_\n",
       "_Z ⟼ + XX\n"
      ]
     },
     "execution_count": 42,
     "metadata": {},
     "output_type": "execute_result"
    }
   ],
   "source": [
    "# Or as a list of Pauli operators\n",
    "CliffordOperator([P\"-ZZ\", P\"_Z\", P\"-X_\", P\"XX\"])"
   ]
  },
  {
   "cell_type": "code",
   "execution_count": 43,
   "metadata": {},
   "outputs": [],
   "source": [
    "# TODO: creating them by using a Stabilizer or by using boolean matrices"
   ]
  },
  {
   "cell_type": "code",
   "execution_count": 44,
   "metadata": {},
   "outputs": [
    {
     "data": {
      "text/plain": [
       "+ XX"
      ]
     },
     "execution_count": 44,
     "metadata": {},
     "output_type": "execute_result"
    }
   ],
   "source": [
    "# Applying them to Stabilizers.\n",
    "CNOT * S\"X_\""
   ]
  },
  {
   "cell_type": "code",
   "execution_count": 45,
   "metadata": {},
   "outputs": [
    {
     "data": {
      "text/plain": [
       "+ XX"
      ]
     },
     "execution_count": 45,
     "metadata": {},
     "output_type": "execute_result"
    }
   ],
   "source": [
    "# Applying them in-place for higher performance.\n",
    "# Neglecting phases for higher performance can be done with `phases=false`.\n",
    "s = S\"X_\"\n",
    "apply!(s,CNOT)\n",
    "s"
   ]
  },
  {
   "cell_type": "code",
   "execution_count": 46,
   "metadata": {},
   "outputs": [],
   "source": [
    "# TODO / incomplete: Small Clifford operators can be applied to large stabilizers by specifying the qubit indices."
   ]
  },
  {
   "cell_type": "code",
   "execution_count": 47,
   "metadata": {},
   "outputs": [
    {
     "data": {
      "text/plain": [
       "- ZXX"
      ]
     },
     "execution_count": 47,
     "metadata": {},
     "output_type": "execute_result"
    }
   ],
   "source": [
    "# Pauli operators act as Clifford operators too (but they are rather boring, as they only change signs).\n",
    "P\"XII\" * S\"ZXX\""
   ]
  },
  {
   "cell_type": "markdown",
   "metadata": {},
   "source": [
    "# Destabilizers\n",
    "\n",
    "Slightly abusing the name: What we call \"destabilizers\" here is a stabilizer and its destabilizing operators saved together."
   ]
  },
  {
   "cell_type": "code",
   "execution_count": 48,
   "metadata": {},
   "outputs": [
    {
     "data": {
      "text/plain": [
       "+ Z__\n",
       "+ X__\n",
       "+ _X_\n",
       "━━━━━\n",
       "- XXX\n",
       "- Z_Z\n",
       "+ _ZZ"
      ]
     },
     "execution_count": 48,
     "metadata": {},
     "output_type": "execute_result"
    }
   ],
   "source": [
    "# Destabilizers are initialized from a stabilizer.\n",
    "s=S\"-XXX\n",
    "    -ZZI\n",
    "    +IZZ\"\n",
    "d = calculate_destabilizer(s)"
   ]
  },
  {
   "cell_type": "code",
   "execution_count": 49,
   "metadata": {},
   "outputs": [
    {
     "data": {
      "text/plain": [
       "- XXX\n",
       "- Z_Z\n",
       "+ _ZZ"
      ]
     },
     "execution_count": 49,
     "metadata": {},
     "output_type": "execute_result"
    }
   ],
   "source": [
    "# Extract the stabilizer or destabilizer component.\n",
    "d.stabilizer"
   ]
  },
  {
   "cell_type": "code",
   "execution_count": 50,
   "metadata": {},
   "outputs": [
    {
     "data": {
      "text/plain": [
       "+ Z__\n",
       "+ X__\n",
       "+ _X_"
      ]
     },
     "execution_count": 50,
     "metadata": {},
     "output_type": "execute_result"
    }
   ],
   "source": [
    "d.destabilizer"
   ]
  },
  {
   "cell_type": "code",
   "execution_count": 51,
   "metadata": {},
   "outputs": [
    {
     "data": {
      "text/plain": [
       "(+ Z__\n",
       "+ X__\n",
       "+ _X_\n",
       "━━━━━\n",
       "- XXX\n",
       "- Z_Z\n",
       "+ _ZZ, 0, 0x02)"
      ]
     },
     "execution_count": 51,
     "metadata": {},
     "output_type": "execute_result"
    }
   ],
   "source": [
    "# Commuting projections are much faster with destabilizers.\n",
    "project!(d,P\"ZZI\")"
   ]
  },
  {
   "cell_type": "code",
   "execution_count": 52,
   "metadata": {},
   "outputs": [
    {
     "data": {
      "text/plain": [
       "(- XXX\n",
       "+ _XX\n",
       "+ X_X\n",
       "━━━━━\n",
       "+ ZZZ\n",
       "- Z_Z\n",
       "+ _ZZ, 1, nothing)"
      ]
     },
     "execution_count": 52,
     "metadata": {},
     "output_type": "execute_result"
    }
   ],
   "source": [
    "# Non-commuting projections are just as fast as when using only stabilizers.\n",
    "project!(d,P\"ZZZ\")"
   ]
  },
  {
   "cell_type": "code",
   "execution_count": 53,
   "metadata": {},
   "outputs": [
    {
     "data": {
      "text/plain": [
       "- X_Z\n",
       "+ _XZ\n",
       "+ XXZ\n",
       "━━━━━\n",
       "+ _ZX\n",
       "- Z_X\n",
       "+ ZZX"
      ]
     },
     "execution_count": 53,
     "metadata": {},
     "output_type": "execute_result"
    }
   ],
   "source": [
    "# Clifford operations can be applied the same way they are applied to stabilizers.\n",
    "apply!(d,CNOT⊗Hadamard)"
   ]
  },
  {
   "cell_type": "markdown",
   "metadata": {},
   "source": [
    "# TODO: Mixed Stabilizer States\n",
    "\n",
    "Currently we deal manually with mixed states, as they are not implemented inside the library."
   ]
  }
 ],
 "metadata": {
  "kernelspec": {
   "display_name": "Julia 1.2.0-rc1",
   "language": "julia",
   "name": "julia-1.2"
  },
  "language_info": {
   "file_extension": ".jl",
   "mimetype": "application/julia",
   "name": "julia",
   "version": "1.2.0"
  }
 },
 "nbformat": 4,
 "nbformat_minor": 2
}
